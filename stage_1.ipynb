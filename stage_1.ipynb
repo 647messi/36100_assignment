{
 "cells": [
  {
   "cell_type": "markdown",
   "id": "c36fb009",
   "metadata": {},
   "source": [
    "# Stage 1 - Data Preparation and Research Question Defining"
   ]
  },
  {
   "cell_type": "markdown",
   "id": "16c1f09b",
   "metadata": {},
   "source": [
    "## Data Preparation"
   ]
  },
  {
   "cell_type": "markdown",
   "id": "37e2695e",
   "metadata": {},
   "source": [
    "### Data Acquisition and cleaning"
   ]
  },
  {
   "cell_type": "code",
   "execution_count": 50,
   "id": "e2a2797e",
   "metadata": {},
   "outputs": [],
   "source": [
    "import pandas as pd\n",
    "from pathlib import Path\n",
    "\n",
    "try:\n",
    "    df = pd.read_csv(\"all_stocks.csv\")\n",
    "# Create combined dataframe and write to CSV if not found\n",
    "except FileNotFoundError:\n",
    "    df = pd.DataFrame()\n",
    "    data_path = Path(\"./sp500/\")\n",
    "    stock_files = sorted(data_path.glob(\"*.csv\"))\n",
    "    \n",
    "    \n",
    "    for file in stock_files:\n",
    "        df_stock = pd.read_csv(file).assign(stock=file.stem)\n",
    "        df = pd.concat([df, df_stock], ignore_index=True)\n",
    "\n",
    "    # We choose records from 2018-2022\n",
    "    df[\"Date\"] = pd.to_datetime(df[\"Date\"], dayfirst = True, format=\"%d-%m-%Y\")\n",
    "    df = df[(df[\"Date\"] >= \"2018-01-01\") & (df[\"Date\"] <= \"2022-12-31\")]\n",
    "    df.to_csv(\"all_stocks.csv\", index=False)"
   ]
  },
  {
   "cell_type": "code",
   "execution_count": 63,
   "id": "547500d1",
   "metadata": {},
   "outputs": [
    {
     "name": "stdout",
     "output_type": "stream",
     "text": [
      "<class 'pandas.core.frame.DataFrame'>\n",
      "Index: 503165 entries, 0 to 508086\n",
      "Data columns (total 8 columns):\n",
      " #   Column          Non-Null Count   Dtype   \n",
      "---  ------          --------------   -----   \n",
      " 0   Date            503165 non-null  object  \n",
      " 1   Low             503165 non-null  float64 \n",
      " 2   Open            503165 non-null  float64 \n",
      " 3   Volume          503165 non-null  float64 \n",
      " 4   High            503165 non-null  float64 \n",
      " 5   Close           503165 non-null  float64 \n",
      " 6   Adjusted Close  503165 non-null  float64 \n",
      " 7   stock           503165 non-null  category\n",
      "dtypes: category(1), float64(6), object(1)\n",
      "memory usage: 31.7+ MB\n",
      "None\n"
     ]
    }
   ],
   "source": [
    "df.head()\n",
    "\n",
    "print(df.info())"
   ]
  },
  {
   "cell_type": "code",
   "execution_count": 51,
   "id": "9ee80d5f",
   "metadata": {},
   "outputs": [
    {
     "name": "stdout",
     "output_type": "stream",
     "text": [
      "       rows  rows_any_na  rate_any_na\n",
      "stock                                \n",
      "CTQ    1246         1246     1.000000\n",
      "BHI    1081          887     0.820537\n",
      "SONC   1246         1004     0.805778\n",
      "CPICQ  1246          986     0.791332\n",
      "NLSN   1245           41     0.032932\n",
      "TWTR   1245           30     0.024096\n",
      "STZ-B  1245           19     0.015261\n",
      "DRE    1245           13     0.010442\n"
     ]
    }
   ],
   "source": [
    "# set stock column as categorical data\n",
    "df[\"stock\"] = df[\"stock\"].astype(\"category\")\n",
    "\n",
    "# Check for missing values by stock\n",
    "def summary_na(df: pd.DataFrame) -> pd.DataFrame:\n",
    "    summary = (\n",
    "        df.assign(any_na=df.isna().any(axis=1))\n",
    "        .groupby(\"stock\", observed=True)\n",
    "        .agg(rows=(\"any_na\", \"size\"),\n",
    "            rows_any_na=(\"any_na\", \"sum\"))\n",
    "        .assign(rate_any_na=lambda d: d[\"rows_any_na\"] / d[\"rows\"])\n",
    "        .sort_values(\"rate_any_na\", ascending=False)\n",
    "    )\n",
    "    return summary\n",
    "\n",
    "summary = summary_na(df)\n",
    "print(summary[summary[\"rate_any_na\"] != 0])"
   ]
  },
  {
   "cell_type": "markdown",
   "id": "e791ed5f",
   "metadata": {},
   "source": [
    "The rate of missing value in `CTQ`, `BHI`, `SONC`, `CPICQ` is too high, we decide to drop these stocks, for the rest of stocks, we might apply interpolate in the future"
   ]
  },
  {
   "cell_type": "code",
   "execution_count": 52,
   "id": "ff0137db",
   "metadata": {},
   "outputs": [
    {
     "name": "stdout",
     "output_type": "stream",
     "text": [
      "       rows  rows_any_na  rate_any_na\n",
      "stock                                \n",
      "NLSN   1245           41     0.032932\n",
      "TWTR   1245           30     0.024096\n",
      "STZ-B  1245           19     0.015261\n",
      "DRE    1245           13     0.010442\n"
     ]
    }
   ],
   "source": [
    "df = df[~df[\"stock\"].isin([\"CTQ\", \"BHI\", \"SONC\", \"CPICQ\"])].copy()\n",
    "\n",
    "summary_na_dropped = summary_na(df)\n",
    "print(summary_na_dropped[summary_na_dropped[\"rate_any_na\"] != 0])"
   ]
  },
  {
   "cell_type": "code",
   "execution_count": 53,
   "id": "94fb79df",
   "metadata": {},
   "outputs": [
    {
     "data": {
      "application/vnd.microsoft.datawrangler.viewer.v0+json": {
       "columns": [
        {
         "name": "index",
         "rawType": "int64",
         "type": "integer"
        },
        {
         "name": "Date",
         "rawType": "object",
         "type": "string"
        },
        {
         "name": "Low",
         "rawType": "float64",
         "type": "float"
        },
        {
         "name": "Open",
         "rawType": "float64",
         "type": "float"
        },
        {
         "name": "Volume",
         "rawType": "float64",
         "type": "float"
        },
        {
         "name": "High",
         "rawType": "float64",
         "type": "float"
        },
        {
         "name": "Close",
         "rawType": "float64",
         "type": "float"
        },
        {
         "name": "Adjusted Close",
         "rawType": "float64",
         "type": "float"
        },
        {
         "name": "stock",
         "rawType": "category",
         "type": "unknown"
        }
       ],
       "ref": "19be9c53-ab03-40bc-9972-df6694eb6f8d",
       "rows": [
        [
         "138090",
         "2022-10-04",
         null,
         null,
         null,
         null,
         null,
         null,
         "DRE"
        ],
        [
         "138091",
         "2022-10-05",
         null,
         null,
         null,
         null,
         null,
         null,
         "DRE"
        ],
        [
         "138092",
         "2022-10-06",
         null,
         null,
         null,
         null,
         null,
         null,
         "DRE"
        ],
        [
         "138093",
         "2022-10-07",
         null,
         null,
         null,
         null,
         null,
         null,
         "DRE"
        ],
        [
         "138094",
         "2022-10-10",
         null,
         null,
         null,
         null,
         null,
         null,
         "DRE"
        ],
        [
         "138095",
         "2022-10-11",
         null,
         null,
         null,
         null,
         null,
         null,
         "DRE"
        ],
        [
         "138096",
         "2022-10-12",
         null,
         null,
         null,
         null,
         null,
         null,
         "DRE"
        ],
        [
         "138097",
         "2022-10-13",
         null,
         null,
         null,
         null,
         null,
         null,
         "DRE"
        ],
        [
         "138098",
         "2022-10-14",
         null,
         null,
         null,
         null,
         null,
         null,
         "DRE"
        ],
        [
         "138099",
         "2022-10-17",
         null,
         null,
         null,
         null,
         null,
         null,
         "DRE"
        ],
        [
         "138100",
         "2022-10-18",
         null,
         null,
         null,
         null,
         null,
         null,
         "DRE"
        ],
        [
         "138101",
         "2022-10-19",
         null,
         null,
         null,
         null,
         null,
         null,
         "DRE"
        ],
        [
         "138102",
         "2022-10-20",
         null,
         null,
         null,
         null,
         null,
         null,
         "DRE"
        ],
        [
         "333710",
         "2022-10-13",
         null,
         null,
         null,
         null,
         null,
         null,
         "NLSN"
        ],
        [
         "333711",
         "2022-10-14",
         null,
         null,
         null,
         null,
         null,
         null,
         "NLSN"
        ],
        [
         "333712",
         "2022-10-17",
         null,
         null,
         null,
         null,
         null,
         null,
         "NLSN"
        ],
        [
         "333713",
         "2022-10-18",
         null,
         null,
         null,
         null,
         null,
         null,
         "NLSN"
        ],
        [
         "333714",
         "2022-10-19",
         null,
         null,
         null,
         null,
         null,
         null,
         "NLSN"
        ],
        [
         "333715",
         "2022-10-20",
         null,
         null,
         null,
         null,
         null,
         null,
         "NLSN"
        ],
        [
         "333716",
         "2022-10-21",
         null,
         null,
         null,
         null,
         null,
         null,
         "NLSN"
        ],
        [
         "333717",
         "2022-10-24",
         null,
         null,
         null,
         null,
         null,
         null,
         "NLSN"
        ],
        [
         "333718",
         "2022-10-25",
         null,
         null,
         null,
         null,
         null,
         null,
         "NLSN"
        ],
        [
         "333719",
         "2022-10-26",
         null,
         null,
         null,
         null,
         null,
         null,
         "NLSN"
        ],
        [
         "333720",
         "2022-10-27",
         null,
         null,
         null,
         null,
         null,
         null,
         "NLSN"
        ],
        [
         "333721",
         "2022-10-28",
         null,
         null,
         null,
         null,
         null,
         null,
         "NLSN"
        ],
        [
         "333722",
         "2022-10-31",
         null,
         null,
         null,
         null,
         null,
         null,
         "NLSN"
        ],
        [
         "333723",
         "2022-11-01",
         null,
         null,
         null,
         null,
         null,
         null,
         "NLSN"
        ],
        [
         "333724",
         "2022-11-02",
         null,
         null,
         null,
         null,
         null,
         null,
         "NLSN"
        ],
        [
         "333725",
         "2022-11-03",
         null,
         null,
         null,
         null,
         null,
         null,
         "NLSN"
        ],
        [
         "333726",
         "2022-11-04",
         null,
         null,
         null,
         null,
         null,
         null,
         "NLSN"
        ],
        [
         "333727",
         "2022-11-07",
         null,
         null,
         null,
         null,
         null,
         null,
         "NLSN"
        ],
        [
         "333728",
         "2022-11-08",
         null,
         null,
         null,
         null,
         null,
         null,
         "NLSN"
        ],
        [
         "333729",
         "2022-11-09",
         null,
         null,
         null,
         null,
         null,
         null,
         "NLSN"
        ],
        [
         "333730",
         "2022-11-10",
         null,
         null,
         null,
         null,
         null,
         null,
         "NLSN"
        ],
        [
         "333731",
         "2022-11-11",
         null,
         null,
         null,
         null,
         null,
         null,
         "NLSN"
        ],
        [
         "333732",
         "2022-11-14",
         null,
         null,
         null,
         null,
         null,
         null,
         "NLSN"
        ],
        [
         "333733",
         "2022-11-15",
         null,
         null,
         null,
         null,
         null,
         null,
         "NLSN"
        ],
        [
         "333734",
         "2022-11-16",
         null,
         null,
         null,
         null,
         null,
         null,
         "NLSN"
        ],
        [
         "333735",
         "2022-11-17",
         null,
         null,
         null,
         null,
         null,
         null,
         "NLSN"
        ],
        [
         "333736",
         "2022-11-18",
         null,
         null,
         null,
         null,
         null,
         null,
         "NLSN"
        ],
        [
         "333737",
         "2022-11-21",
         null,
         null,
         null,
         null,
         null,
         null,
         "NLSN"
        ],
        [
         "333738",
         "2022-11-22",
         null,
         null,
         null,
         null,
         null,
         null,
         "NLSN"
        ],
        [
         "333739",
         "2022-11-23",
         null,
         null,
         null,
         null,
         null,
         null,
         "NLSN"
        ],
        [
         "333740",
         "2022-11-25",
         null,
         null,
         null,
         null,
         null,
         null,
         "NLSN"
        ],
        [
         "333741",
         "2022-11-28",
         null,
         null,
         null,
         null,
         null,
         null,
         "NLSN"
        ],
        [
         "333742",
         "2022-11-29",
         null,
         null,
         null,
         null,
         null,
         null,
         "NLSN"
        ],
        [
         "333743",
         "2022-11-30",
         null,
         null,
         null,
         null,
         null,
         null,
         "NLSN"
        ],
        [
         "333744",
         "2022-12-01",
         null,
         null,
         null,
         null,
         null,
         null,
         "NLSN"
        ],
        [
         "333745",
         "2022-12-02",
         null,
         null,
         null,
         null,
         null,
         null,
         "NLSN"
        ],
        [
         "333746",
         "2022-12-05",
         null,
         null,
         null,
         null,
         null,
         null,
         "NLSN"
        ]
       ],
       "shape": {
        "columns": 8,
        "rows": 103
       }
      },
      "text/html": [
       "<div>\n",
       "<style scoped>\n",
       "    .dataframe tbody tr th:only-of-type {\n",
       "        vertical-align: middle;\n",
       "    }\n",
       "\n",
       "    .dataframe tbody tr th {\n",
       "        vertical-align: top;\n",
       "    }\n",
       "\n",
       "    .dataframe thead th {\n",
       "        text-align: right;\n",
       "    }\n",
       "</style>\n",
       "<table border=\"1\" class=\"dataframe\">\n",
       "  <thead>\n",
       "    <tr style=\"text-align: right;\">\n",
       "      <th></th>\n",
       "      <th>Date</th>\n",
       "      <th>Low</th>\n",
       "      <th>Open</th>\n",
       "      <th>Volume</th>\n",
       "      <th>High</th>\n",
       "      <th>Close</th>\n",
       "      <th>Adjusted Close</th>\n",
       "      <th>stock</th>\n",
       "    </tr>\n",
       "  </thead>\n",
       "  <tbody>\n",
       "    <tr>\n",
       "      <th>138090</th>\n",
       "      <td>2022-10-04</td>\n",
       "      <td>NaN</td>\n",
       "      <td>NaN</td>\n",
       "      <td>NaN</td>\n",
       "      <td>NaN</td>\n",
       "      <td>NaN</td>\n",
       "      <td>NaN</td>\n",
       "      <td>DRE</td>\n",
       "    </tr>\n",
       "    <tr>\n",
       "      <th>138091</th>\n",
       "      <td>2022-10-05</td>\n",
       "      <td>NaN</td>\n",
       "      <td>NaN</td>\n",
       "      <td>NaN</td>\n",
       "      <td>NaN</td>\n",
       "      <td>NaN</td>\n",
       "      <td>NaN</td>\n",
       "      <td>DRE</td>\n",
       "    </tr>\n",
       "    <tr>\n",
       "      <th>138092</th>\n",
       "      <td>2022-10-06</td>\n",
       "      <td>NaN</td>\n",
       "      <td>NaN</td>\n",
       "      <td>NaN</td>\n",
       "      <td>NaN</td>\n",
       "      <td>NaN</td>\n",
       "      <td>NaN</td>\n",
       "      <td>DRE</td>\n",
       "    </tr>\n",
       "    <tr>\n",
       "      <th>138093</th>\n",
       "      <td>2022-10-07</td>\n",
       "      <td>NaN</td>\n",
       "      <td>NaN</td>\n",
       "      <td>NaN</td>\n",
       "      <td>NaN</td>\n",
       "      <td>NaN</td>\n",
       "      <td>NaN</td>\n",
       "      <td>DRE</td>\n",
       "    </tr>\n",
       "    <tr>\n",
       "      <th>138094</th>\n",
       "      <td>2022-10-10</td>\n",
       "      <td>NaN</td>\n",
       "      <td>NaN</td>\n",
       "      <td>NaN</td>\n",
       "      <td>NaN</td>\n",
       "      <td>NaN</td>\n",
       "      <td>NaN</td>\n",
       "      <td>DRE</td>\n",
       "    </tr>\n",
       "    <tr>\n",
       "      <th>...</th>\n",
       "      <td>...</td>\n",
       "      <td>...</td>\n",
       "      <td>...</td>\n",
       "      <td>...</td>\n",
       "      <td>...</td>\n",
       "      <td>...</td>\n",
       "      <td>...</td>\n",
       "      <td>...</td>\n",
       "    </tr>\n",
       "    <tr>\n",
       "      <th>454505</th>\n",
       "      <td>2022-12-05</td>\n",
       "      <td>NaN</td>\n",
       "      <td>NaN</td>\n",
       "      <td>NaN</td>\n",
       "      <td>NaN</td>\n",
       "      <td>NaN</td>\n",
       "      <td>NaN</td>\n",
       "      <td>TWTR</td>\n",
       "    </tr>\n",
       "    <tr>\n",
       "      <th>454506</th>\n",
       "      <td>2022-12-06</td>\n",
       "      <td>NaN</td>\n",
       "      <td>NaN</td>\n",
       "      <td>NaN</td>\n",
       "      <td>NaN</td>\n",
       "      <td>NaN</td>\n",
       "      <td>NaN</td>\n",
       "      <td>TWTR</td>\n",
       "    </tr>\n",
       "    <tr>\n",
       "      <th>454507</th>\n",
       "      <td>2022-12-07</td>\n",
       "      <td>NaN</td>\n",
       "      <td>NaN</td>\n",
       "      <td>NaN</td>\n",
       "      <td>NaN</td>\n",
       "      <td>NaN</td>\n",
       "      <td>NaN</td>\n",
       "      <td>TWTR</td>\n",
       "    </tr>\n",
       "    <tr>\n",
       "      <th>454508</th>\n",
       "      <td>2022-12-08</td>\n",
       "      <td>NaN</td>\n",
       "      <td>NaN</td>\n",
       "      <td>NaN</td>\n",
       "      <td>NaN</td>\n",
       "      <td>NaN</td>\n",
       "      <td>NaN</td>\n",
       "      <td>TWTR</td>\n",
       "    </tr>\n",
       "    <tr>\n",
       "      <th>454509</th>\n",
       "      <td>2022-12-09</td>\n",
       "      <td>NaN</td>\n",
       "      <td>NaN</td>\n",
       "      <td>NaN</td>\n",
       "      <td>NaN</td>\n",
       "      <td>NaN</td>\n",
       "      <td>NaN</td>\n",
       "      <td>TWTR</td>\n",
       "    </tr>\n",
       "  </tbody>\n",
       "</table>\n",
       "<p>103 rows × 8 columns</p>\n",
       "</div>"
      ],
      "text/plain": [
       "              Date  Low  Open  Volume  High  Close  Adjusted Close stock\n",
       "138090  2022-10-04  NaN   NaN     NaN   NaN    NaN             NaN   DRE\n",
       "138091  2022-10-05  NaN   NaN     NaN   NaN    NaN             NaN   DRE\n",
       "138092  2022-10-06  NaN   NaN     NaN   NaN    NaN             NaN   DRE\n",
       "138093  2022-10-07  NaN   NaN     NaN   NaN    NaN             NaN   DRE\n",
       "138094  2022-10-10  NaN   NaN     NaN   NaN    NaN             NaN   DRE\n",
       "...            ...  ...   ...     ...   ...    ...             ...   ...\n",
       "454505  2022-12-05  NaN   NaN     NaN   NaN    NaN             NaN  TWTR\n",
       "454506  2022-12-06  NaN   NaN     NaN   NaN    NaN             NaN  TWTR\n",
       "454507  2022-12-07  NaN   NaN     NaN   NaN    NaN             NaN  TWTR\n",
       "454508  2022-12-08  NaN   NaN     NaN   NaN    NaN             NaN  TWTR\n",
       "454509  2022-12-09  NaN   NaN     NaN   NaN    NaN             NaN  TWTR\n",
       "\n",
       "[103 rows x 8 columns]"
      ]
     },
     "execution_count": 53,
     "metadata": {},
     "output_type": "execute_result"
    }
   ],
   "source": [
    "# Check rest Missing Values in rows\n",
    "na_rows = df[df.isna().any(axis=1)].copy()\n",
    "na_rows"
   ]
  },
  {
   "cell_type": "markdown",
   "id": "4b9c424b",
   "metadata": {},
   "source": [
    "The missing values are located in the last few months of stock data. We simply drop them."
   ]
  },
  {
   "cell_type": "code",
   "execution_count": 56,
   "id": "06172a15",
   "metadata": {},
   "outputs": [
    {
     "data": {
      "application/vnd.microsoft.datawrangler.viewer.v0+json": {
       "columns": [
        {
         "name": "index",
         "rawType": "int64",
         "type": "integer"
        },
        {
         "name": "Date",
         "rawType": "object",
         "type": "string"
        },
        {
         "name": "Low",
         "rawType": "float64",
         "type": "float"
        },
        {
         "name": "Open",
         "rawType": "float64",
         "type": "float"
        },
        {
         "name": "Volume",
         "rawType": "float64",
         "type": "float"
        },
        {
         "name": "High",
         "rawType": "float64",
         "type": "float"
        },
        {
         "name": "Close",
         "rawType": "float64",
         "type": "float"
        },
        {
         "name": "Adjusted Close",
         "rawType": "float64",
         "type": "float"
        },
        {
         "name": "stock",
         "rawType": "category",
         "type": "unknown"
        }
       ],
       "ref": "1b7a08c6-e507-4b79-a67d-13054339bb5f",
       "rows": [],
       "shape": {
        "columns": 8,
        "rows": 0
       }
      },
      "text/html": [
       "<div>\n",
       "<style scoped>\n",
       "    .dataframe tbody tr th:only-of-type {\n",
       "        vertical-align: middle;\n",
       "    }\n",
       "\n",
       "    .dataframe tbody tr th {\n",
       "        vertical-align: top;\n",
       "    }\n",
       "\n",
       "    .dataframe thead th {\n",
       "        text-align: right;\n",
       "    }\n",
       "</style>\n",
       "<table border=\"1\" class=\"dataframe\">\n",
       "  <thead>\n",
       "    <tr style=\"text-align: right;\">\n",
       "      <th></th>\n",
       "      <th>Date</th>\n",
       "      <th>Low</th>\n",
       "      <th>Open</th>\n",
       "      <th>Volume</th>\n",
       "      <th>High</th>\n",
       "      <th>Close</th>\n",
       "      <th>Adjusted Close</th>\n",
       "      <th>stock</th>\n",
       "    </tr>\n",
       "  </thead>\n",
       "  <tbody>\n",
       "  </tbody>\n",
       "</table>\n",
       "</div>"
      ],
      "text/plain": [
       "Empty DataFrame\n",
       "Columns: [Date, Low, Open, Volume, High, Close, Adjusted Close, stock]\n",
       "Index: []"
      ]
     },
     "execution_count": 56,
     "metadata": {},
     "output_type": "execute_result"
    }
   ],
   "source": [
    "df = df.dropna()\n",
    "df[df.isna().any(axis=1)]"
   ]
  },
  {
   "cell_type": "code",
   "execution_count": 64,
   "id": "b359c585",
   "metadata": {},
   "outputs": [],
   "source": [
    "df['Volume'] = df['Volume'].astype(int)"
   ]
  },
  {
   "cell_type": "code",
   "execution_count": 65,
   "id": "25f64777",
   "metadata": {},
   "outputs": [],
   "source": [
    "for col in df.select_dtypes(include=['float64']).columns:\n",
    "    df[col] = df[col].round(2)"
   ]
  },
  {
   "cell_type": "code",
   "execution_count": 66,
   "id": "bb84254b",
   "metadata": {},
   "outputs": [
    {
     "data": {
      "application/vnd.microsoft.datawrangler.viewer.v0+json": {
       "columns": [
        {
         "name": "index",
         "rawType": "int64",
         "type": "integer"
        },
        {
         "name": "Date",
         "rawType": "object",
         "type": "string"
        },
        {
         "name": "Low",
         "rawType": "float64",
         "type": "float"
        },
        {
         "name": "Open",
         "rawType": "float64",
         "type": "float"
        },
        {
         "name": "Volume",
         "rawType": "int64",
         "type": "integer"
        },
        {
         "name": "High",
         "rawType": "float64",
         "type": "float"
        },
        {
         "name": "Close",
         "rawType": "float64",
         "type": "float"
        },
        {
         "name": "Adjusted Close",
         "rawType": "float64",
         "type": "float"
        },
        {
         "name": "stock",
         "rawType": "category",
         "type": "unknown"
        }
       ],
       "ref": "6feaa731-59e4-4fed-8bd4-909a818d369c",
       "rows": [
        [
         "0",
         "2018-01-02",
         "67.34",
         "67.42",
         "1047800",
         "67.89",
         "67.6",
         "65.19",
         "A"
        ],
        [
         "1",
         "2018-01-03",
         "67.6",
         "67.62",
         "1698900",
         "69.49",
         "69.32",
         "66.85",
         "A"
        ],
        [
         "2",
         "2018-01-04",
         "68.78",
         "69.54",
         "2230700",
         "69.82",
         "68.8",
         "66.35",
         "A"
        ],
        [
         "3",
         "2018-01-05",
         "68.73",
         "68.73",
         "1632500",
         "70.1",
         "69.9",
         "67.41",
         "A"
        ],
        [
         "4",
         "2018-01-08",
         "69.55",
         "69.73",
         "1613400",
         "70.33",
         "70.05",
         "67.55",
         "A"
        ]
       ],
       "shape": {
        "columns": 8,
        "rows": 5
       }
      },
      "text/html": [
       "<div>\n",
       "<style scoped>\n",
       "    .dataframe tbody tr th:only-of-type {\n",
       "        vertical-align: middle;\n",
       "    }\n",
       "\n",
       "    .dataframe tbody tr th {\n",
       "        vertical-align: top;\n",
       "    }\n",
       "\n",
       "    .dataframe thead th {\n",
       "        text-align: right;\n",
       "    }\n",
       "</style>\n",
       "<table border=\"1\" class=\"dataframe\">\n",
       "  <thead>\n",
       "    <tr style=\"text-align: right;\">\n",
       "      <th></th>\n",
       "      <th>Date</th>\n",
       "      <th>Low</th>\n",
       "      <th>Open</th>\n",
       "      <th>Volume</th>\n",
       "      <th>High</th>\n",
       "      <th>Close</th>\n",
       "      <th>Adjusted Close</th>\n",
       "      <th>stock</th>\n",
       "    </tr>\n",
       "  </thead>\n",
       "  <tbody>\n",
       "    <tr>\n",
       "      <th>0</th>\n",
       "      <td>2018-01-02</td>\n",
       "      <td>67.34</td>\n",
       "      <td>67.42</td>\n",
       "      <td>1047800</td>\n",
       "      <td>67.89</td>\n",
       "      <td>67.60</td>\n",
       "      <td>65.19</td>\n",
       "      <td>A</td>\n",
       "    </tr>\n",
       "    <tr>\n",
       "      <th>1</th>\n",
       "      <td>2018-01-03</td>\n",
       "      <td>67.60</td>\n",
       "      <td>67.62</td>\n",
       "      <td>1698900</td>\n",
       "      <td>69.49</td>\n",
       "      <td>69.32</td>\n",
       "      <td>66.85</td>\n",
       "      <td>A</td>\n",
       "    </tr>\n",
       "    <tr>\n",
       "      <th>2</th>\n",
       "      <td>2018-01-04</td>\n",
       "      <td>68.78</td>\n",
       "      <td>69.54</td>\n",
       "      <td>2230700</td>\n",
       "      <td>69.82</td>\n",
       "      <td>68.80</td>\n",
       "      <td>66.35</td>\n",
       "      <td>A</td>\n",
       "    </tr>\n",
       "    <tr>\n",
       "      <th>3</th>\n",
       "      <td>2018-01-05</td>\n",
       "      <td>68.73</td>\n",
       "      <td>68.73</td>\n",
       "      <td>1632500</td>\n",
       "      <td>70.10</td>\n",
       "      <td>69.90</td>\n",
       "      <td>67.41</td>\n",
       "      <td>A</td>\n",
       "    </tr>\n",
       "    <tr>\n",
       "      <th>4</th>\n",
       "      <td>2018-01-08</td>\n",
       "      <td>69.55</td>\n",
       "      <td>69.73</td>\n",
       "      <td>1613400</td>\n",
       "      <td>70.33</td>\n",
       "      <td>70.05</td>\n",
       "      <td>67.55</td>\n",
       "      <td>A</td>\n",
       "    </tr>\n",
       "  </tbody>\n",
       "</table>\n",
       "</div>"
      ],
      "text/plain": [
       "         Date    Low   Open   Volume   High  Close  Adjusted Close stock\n",
       "0  2018-01-02  67.34  67.42  1047800  67.89  67.60           65.19     A\n",
       "1  2018-01-03  67.60  67.62  1698900  69.49  69.32           66.85     A\n",
       "2  2018-01-04  68.78  69.54  2230700  69.82  68.80           66.35     A\n",
       "3  2018-01-05  68.73  68.73  1632500  70.10  69.90           67.41     A\n",
       "4  2018-01-08  69.55  69.73  1613400  70.33  70.05           67.55     A"
      ]
     },
     "execution_count": 66,
     "metadata": {},
     "output_type": "execute_result"
    }
   ],
   "source": [
    "df.head()"
   ]
  },
  {
   "cell_type": "code",
   "execution_count": 67,
   "id": "618d7ba8",
   "metadata": {},
   "outputs": [],
   "source": [
    "df.to_csv(\"all_stocks_cleaned.csv\", index=False)"
   ]
  },
  {
   "cell_type": "code",
   "execution_count": null,
   "id": "0893121e",
   "metadata": {},
   "outputs": [],
   "source": []
  }
 ],
 "metadata": {
  "kernelspec": {
   "display_name": "Python 3",
   "language": "python",
   "name": "python3"
  },
  "language_info": {
   "codemirror_mode": {
    "name": "ipython",
    "version": 3
   },
   "file_extension": ".py",
   "mimetype": "text/x-python",
   "name": "python",
   "nbconvert_exporter": "python",
   "pygments_lexer": "ipython3",
   "version": "3.12.7"
  }
 },
 "nbformat": 4,
 "nbformat_minor": 5
}
